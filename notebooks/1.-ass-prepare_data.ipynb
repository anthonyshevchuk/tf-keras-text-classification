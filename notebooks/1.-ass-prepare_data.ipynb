{
 "cells": [
  {
   "cell_type": "markdown",
   "metadata": {},
   "source": [
    " main_directory/  \n",
    "...class_a/  \n",
    "......a_text_1.txt  \n",
    "......a_text_2.txt  \n",
    "...class_b/  \n",
    "......b_text_1.txt  \n",
    "......b_text_2.txt"
   ]
  },
  {
   "cell_type": "code",
   "execution_count": 37,
   "metadata": {},
   "outputs": [],
   "source": [
    "import pandas as pd\n",
    "from collections import Counter\n",
    "import os"
   ]
  },
  {
   "cell_type": "code",
   "execution_count": 19,
   "metadata": {},
   "outputs": [
    {
     "name": "stdout",
     "output_type": "stream",
     "text": [
      "lenta_10k_3_classes.csv\r\n"
     ]
    }
   ],
   "source": [
    "ls ../data/raw"
   ]
  },
  {
   "cell_type": "code",
   "execution_count": 20,
   "metadata": {},
   "outputs": [],
   "source": [
    "path = '../data/raw/lenta_10k_3_classes.csv'"
   ]
  },
  {
   "cell_type": "code",
   "execution_count": 21,
   "metadata": {},
   "outputs": [],
   "source": [
    "df = pd.read_csv(path)"
   ]
  },
  {
   "cell_type": "code",
   "execution_count": 23,
   "metadata": {},
   "outputs": [
    {
     "data": {
      "text/html": [
       "<div>\n",
       "<style scoped>\n",
       "    .dataframe tbody tr th:only-of-type {\n",
       "        vertical-align: middle;\n",
       "    }\n",
       "\n",
       "    .dataframe tbody tr th {\n",
       "        vertical-align: top;\n",
       "    }\n",
       "\n",
       "    .dataframe thead th {\n",
       "        text-align: right;\n",
       "    }\n",
       "</style>\n",
       "<table border=\"1\" class=\"dataframe\">\n",
       "  <thead>\n",
       "    <tr style=\"text-align: right;\">\n",
       "      <th></th>\n",
       "      <th>text</th>\n",
       "      <th>topic</th>\n",
       "    </tr>\n",
       "  </thead>\n",
       "  <tbody>\n",
       "    <tr>\n",
       "      <th>0</th>\n",
       "      <td>С 1 января 2000 года все телеканалы будут опла...</td>\n",
       "      <td>Экономика</td>\n",
       "    </tr>\n",
       "    <tr>\n",
       "      <th>1</th>\n",
       "      <td>Германский автопромышленный концерн Volkswagen...</td>\n",
       "      <td>Экономика</td>\n",
       "    </tr>\n",
       "    <tr>\n",
       "      <th>2</th>\n",
       "      <td>Нераспределенная прибыль ОАО \"Тюменнефтегаз\", ...</td>\n",
       "      <td>Экономика</td>\n",
       "    </tr>\n",
       "    <tr>\n",
       "      <th>3</th>\n",
       "      <td>Две крупнейших телекоммуникационных компании С...</td>\n",
       "      <td>Экономика</td>\n",
       "    </tr>\n",
       "    <tr>\n",
       "      <th>4</th>\n",
       "      <td>ОАО \"ГАЗ\" и Нижегородский банк Сбербанка Росси...</td>\n",
       "      <td>Экономика</td>\n",
       "    </tr>\n",
       "  </tbody>\n",
       "</table>\n",
       "</div>"
      ],
      "text/plain": [
       "                                                text      topic\n",
       "0  С 1 января 2000 года все телеканалы будут опла...  Экономика\n",
       "1  Германский автопромышленный концерн Volkswagen...  Экономика\n",
       "2  Нераспределенная прибыль ОАО \"Тюменнефтегаз\", ...  Экономика\n",
       "3  Две крупнейших телекоммуникационных компании С...  Экономика\n",
       "4  ОАО \"ГАЗ\" и Нижегородский банк Сбербанка Росси...  Экономика"
      ]
     },
     "execution_count": 23,
     "metadata": {},
     "output_type": "execute_result"
    }
   ],
   "source": [
    "df.head()"
   ]
  },
  {
   "cell_type": "code",
   "execution_count": 31,
   "metadata": {},
   "outputs": [
    {
     "data": {
      "text/plain": [
       "array(['Экономика', 'Спорт', 'Культура'], dtype=object)"
      ]
     },
     "execution_count": 31,
     "metadata": {},
     "output_type": "execute_result"
    }
   ],
   "source": [
    "# Take a glance at unique classes\n",
    "df['topic'].unique()"
   ]
  },
  {
   "cell_type": "code",
   "execution_count": 32,
   "metadata": {},
   "outputs": [
    {
     "data": {
      "text/plain": [
       "Counter({'Экономика': 4902, 'Спорт': 2170, 'Культура': 2928})"
      ]
     },
     "execution_count": 32,
     "metadata": {},
     "output_type": "execute_result"
    }
   ],
   "source": [
    "# Distributions\n",
    "Counter(df['topic'])"
   ]
  },
  {
   "cell_type": "code",
   "execution_count": 38,
   "metadata": {},
   "outputs": [],
   "source": [
    "directory = 'test_dir'\n",
    "if not os.path.exists(directory):\n",
    "    os.makedirs(directory)"
   ]
  },
  {
   "cell_type": "code",
   "execution_count": 39,
   "metadata": {},
   "outputs": [
    {
     "name": "stdout",
     "output_type": "stream",
     "text": [
      "1.-ass-prepare_data.ipynb  \u001b[34mtest_dir\u001b[m\u001b[m/\r\n"
     ]
    }
   ],
   "source": [
    "ls"
   ]
  },
  {
   "cell_type": "code",
   "execution_count": 61,
   "metadata": {},
   "outputs": [],
   "source": [
    "def create_dir_path(*dir_names):\n",
    "    \"\"\"\n",
    "    Concatenates variable num of dir names using forward slash\n",
    "    \"\"\"\n",
    "    \n",
    "    path = ''\n",
    "    for name in dir_names:\n",
    "        path += \"/\" + name\n",
    "    \n",
    "    return path[1:]"
   ]
  },
  {
   "cell_type": "code",
   "execution_count": 76,
   "metadata": {},
   "outputs": [],
   "source": [
    "def create_text_files_dir(df, text_col='text', label_col='topic', dir_name='dataset', path='../data/interim'):\n",
    "    \"\"\"\n",
    "    Creates a text dir w/ the following structure from a dataframe:\n",
    "     main_directory/  \n",
    "    ...class_a/  \n",
    "    ......a_text_1.txt  \n",
    "    ......a_text_2.txt  \n",
    "    ...class_b/  \n",
    "    ......b_text_1.txt  \n",
    "    ......b_text_2.txt\n",
    "    \"\"\"\n",
    "    \n",
    "#     # create root dir\n",
    "#     if not os.path.exists(dir_name):\n",
    "#         print(dir_name)\n",
    "#         os.makedirs(dir_name)\n",
    "    \n",
    "    # create dirs with label names if they don't exhist yet\n",
    "    class_names = df['topic'].unique()\n",
    "    for class_name in class_names:\n",
    "        class_name_dir_path = create_dir_path(path, dir_name, class_name)\n",
    "        if not os.path.exists(class_name_dir_path):\n",
    "            os.makedirs(class_name_dir_path)     \n",
    "        # fill the dirs w/ text files\n",
    "        class_df = df[df['topic']=='Экономика']\n",
    "        for i, row in class_df.iterrows():\n",
    "            with open(f'{class_name_dir_path}/{class_name}_text_{i}.txt', 'w+') as f:\n",
    "                f.write(row['text'])"
   ]
  },
  {
   "cell_type": "code",
   "execution_count": 77,
   "metadata": {},
   "outputs": [],
   "source": [
    "create_text_files_dir(df)"
   ]
  },
  {
   "cell_type": "code",
   "execution_count": null,
   "metadata": {},
   "outputs": [],
   "source": []
  }
 ],
 "metadata": {
  "kernelspec": {
   "display_name": "Python_3.7.0",
   "language": "python",
   "name": "python_3.7.0"
  },
  "language_info": {
   "codemirror_mode": {
    "name": "ipython",
    "version": 3
   },
   "file_extension": ".py",
   "mimetype": "text/x-python",
   "name": "python",
   "nbconvert_exporter": "python",
   "pygments_lexer": "ipython3",
   "version": "3.7.0"
  }
 },
 "nbformat": 4,
 "nbformat_minor": 4
}
